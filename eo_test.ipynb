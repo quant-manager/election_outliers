{
 "cells": [
  {
   "cell_type": "code",
   "execution_count": null,
   "id": "5e6e400e",
   "metadata": {},
   "outputs": [],
   "source": [
    "# The results will be generated in this notebook and in ./output_jobs_dir\n",
    "from eo import process_input_job_json_file"
   ]
  },
  {
   "cell_type": "code",
   "execution_count": null,
   "id": "25993526",
   "metadata": {
    "scrolled": false
   },
   "outputs": [],
   "source": [
    "process_input_job_json_file(str_input_job_json_file_name = \"USA_MS_20140624_RUN_USS_REP_TLY_BOTH_000\")"
   ]
  },
  {
   "cell_type": "code",
   "execution_count": null,
   "id": "2b926987",
   "metadata": {},
   "outputs": [],
   "source": [
    "process_input_job_json_file(str_input_job_json_file_name = \"USA_IA_20120103_PRI_PRE_REP_TLY_PARM_000\")"
   ]
  },
  {
   "cell_type": "code",
   "execution_count": null,
   "id": "7db7161d",
   "metadata": {},
   "outputs": [],
   "source": [
    "process_input_job_json_file(str_input_job_json_file_name = \"USA_OH_20201103_GEN_PRE_ALL_REG_PARM_000\")"
   ]
  },
  {
   "cell_type": "code",
   "execution_count": null,
   "id": "aa4d886c",
   "metadata": {},
   "outputs": [],
   "source": [
    "process_input_job_json_file(str_input_job_json_file_name = \"USA_OH_20201103_GEN_PRE_ALL_REG_NPAR_000\")"
   ]
  },
  {
   "cell_type": "code",
   "execution_count": null,
   "id": "fe6a15e5",
   "metadata": {},
   "outputs": [],
   "source": [
    "process_input_job_json_file(str_input_job_json_file_name = \"USA_OH_20201103_GEN_PRE_ALL_TLY_NPAR_000\")"
   ]
  },
  {
   "cell_type": "code",
   "execution_count": null,
   "id": "9eb24e58",
   "metadata": {
    "scrolled": false
   },
   "outputs": [],
   "source": [
    "process_input_job_json_file(str_input_job_json_file_name = \"USA_OH_20161108_GEN_USS_ALL_REG_NPAR_000\")"
   ]
  },
  {
   "cell_type": "code",
   "execution_count": null,
   "id": "cd34f4e5",
   "metadata": {},
   "outputs": [],
   "source": [
    "process_input_job_json_file(str_input_job_json_file_name = \"USA_OH_20161108_GEN_USS_ALL_TLY_NPAR_000\")"
   ]
  },
  {
   "cell_type": "code",
   "execution_count": null,
   "id": "acca163d",
   "metadata": {},
   "outputs": [],
   "source": [
    "process_input_job_json_file(str_input_job_json_file_name = \"USA_OH_20161108_GEN_PRE_ALL_REG_NPAR_000\")"
   ]
  },
  {
   "cell_type": "code",
   "execution_count": null,
   "id": "28b9670c",
   "metadata": {},
   "outputs": [],
   "source": [
    "process_input_job_json_file(str_input_job_json_file_name = \"USA_OH_20161108_GEN_PRE_ALL_TLY_NPAR_000\")"
   ]
  },
  {
   "cell_type": "code",
   "execution_count": null,
   "id": "738c1461",
   "metadata": {},
   "outputs": [],
   "source": [
    "process_input_job_json_file(str_input_job_json_file_name = \"USA_OH_20161108_GEN_PRE_DEM_REG_NPAR_000\")"
   ]
  },
  {
   "cell_type": "code",
   "execution_count": null,
   "id": "384cdca8",
   "metadata": {},
   "outputs": [],
   "source": [
    "process_input_job_json_file(str_input_job_json_file_name = \"USA_OH_20161108_GEN_PRE_DEM_TLY_NPAR_000\")"
   ]
  },
  {
   "cell_type": "code",
   "execution_count": null,
   "id": "90fa18e7",
   "metadata": {},
   "outputs": [],
   "source": [
    "process_input_job_json_file(str_input_job_json_file_name = \"USA_OH_20161108_GEN_PRE_REP_REG_NPAR_000\")"
   ]
  },
  {
   "cell_type": "code",
   "execution_count": null,
   "id": "13eb1218",
   "metadata": {},
   "outputs": [],
   "source": [
    "process_input_job_json_file(str_input_job_json_file_name = \"USA_OH_20161108_GEN_PRE_REP_TLY_NPAR_000\")"
   ]
  }
 ],
 "metadata": {
  "kernelspec": {
   "display_name": "Python 3 (ipykernel)",
   "language": "python",
   "name": "python3"
  },
  "language_info": {
   "codemirror_mode": {
    "name": "ipython",
    "version": 3
   },
   "file_extension": ".py",
   "mimetype": "text/x-python",
   "name": "python",
   "nbconvert_exporter": "python",
   "pygments_lexer": "ipython3",
   "version": "3.10.8"
  }
 },
 "nbformat": 4,
 "nbformat_minor": 5
}
